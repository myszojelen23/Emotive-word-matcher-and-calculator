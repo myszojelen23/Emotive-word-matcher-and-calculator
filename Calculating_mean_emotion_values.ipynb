{
  "cells": [
    {
      "cell_type": "markdown",
      "metadata": {
        "id": "view-in-github",
        "colab_type": "text"
      },
      "source": [
        "<a href=\"https://colab.research.google.com/github/myszojelen23/Emotive-word-matcher-and-calculator/blob/main/Calculating_mean_emotion_values.ipynb\" target=\"_parent\"><img src=\"https://colab.research.google.com/assets/colab-badge.svg\" alt=\"Open In Colab\"/></a>"
      ]
    },
    {
      "cell_type": "code",
      "execution_count": null,
      "metadata": {
        "id": "xfPaQkSP-sTR"
      },
      "outputs": [],
      "source": [
        "import pandas as pd\n",
        "from google.colab import files"
      ]
    },
    {
      "cell_type": "markdown",
      "metadata": {
        "id": "1Ti5-LDH_E4X"
      },
      "source": [
        "Importing the Excel sheet with arguments"
      ]
    },
    {
      "cell_type": "code",
      "execution_count": null,
      "metadata": {
        "id": "K-XrfAOT-6Bm"
      },
      "outputs": [],
      "source": [
        "files.upload()"
      ]
    },
    {
      "cell_type": "code",
      "execution_count": null,
      "metadata": {
        "id": "oymq8Ikf_XDQ"
      },
      "outputs": [],
      "source": [
        "df = pd.read_excel('Argumentacje.xlsx')"
      ]
    },
    {
      "cell_type": "markdown",
      "metadata": {
        "id": "UxJldCvTAF89"
      },
      "source": [
        "Cleaning"
      ]
    },
    {
      "cell_type": "code",
      "execution_count": null,
      "metadata": {
        "id": "J3cpEVXEAG5q"
      },
      "outputs": [],
      "source": [
        "df.rename(columns = {'Imię i nazwisko':'Author', 'Źródło':'Source', 'Typ argumentu (szeregowy lub równoległy)': 'Arg_type', 'Konkluzja':'Conclusion', 'Przesłanka 1':'Premise1', 'Przesłanka 2': 'Premise2', 'Przesłanka 3': 'Premise3', 'Przesłanka 4':'Premise4', 'Przesłanka 5':'Premise5', 'Przesłanka 6':'Premise6', 'Przesłanka 7':'Premise7'}, inplace = True) #renaming columns\n",
        "\n",
        "df.fillna('', inplace=True)  # Replacing NaN values with string"
      ]
    },
    {
      "cell_type": "markdown",
      "metadata": {
        "id": "c8iD87rm_696"
      },
      "source": [
        "Joining the text of premises and conclusions in one string\n",
        "\n"
      ]
    },
    {
      "cell_type": "code",
      "execution_count": null,
      "metadata": {
        "id": "JZeboHLD__NH"
      },
      "outputs": [],
      "source": [
        "df['Premises'] = df[['Premise1', 'Premise2', 'Premise3', 'Premise4', 'Premise5', 'Premise6', 'Premise7']].agg(' '.join, axis=1)\n",
        "df['Premises']\n",
        "\n",
        "df['Arguments'] = df[['Premises','Conclusion']].agg(' '.join, axis=1)"
      ]
    },
    {
      "cell_type": "markdown",
      "metadata": {
        "id": "fFvx_Tn7Mdql"
      },
      "source": [
        "Uploading NAWL database"
      ]
    },
    {
      "cell_type": "code",
      "execution_count": null,
      "metadata": {
        "colab": {
          "base_uri": "https://localhost:8080/",
          "height": 1000
        },
        "id": "tldgM9PvNHkk",
        "outputId": "9f4b0bb3-3f22-46cb-fa9d-b863aa731ea3"
      },
      "outputs": [],
      "source": [
        "files.upload()"
      ]
    },
    {
      "cell_type": "markdown",
      "metadata": {
        "id": "lDsZiTs5ursF"
      },
      "source": [
        "Cleaning NAWL database"
      ]
    },
    {
      "cell_type": "code",
      "execution_count": null,
      "metadata": {
        "id": "EUiw8aTNMdH6"
      },
      "outputs": [],
      "source": [
        "nawl = pd.read_excel('nawl_emo_cat.xlsx')\n",
        "\n",
        "nawl = nawl.drop(columns=['BAWL_word', 'BE_N_all', 'hap_SD_all', 'ang_SD_all', 'sad_SD_all', 'fea_SD_all', 'dis_SD_all', 'BE_N_women', 'hap_M_women',\n",
        "       'hap_SD_women', 'ang_M_women', 'ang_SD_women', 'sad_M_women',\n",
        "       'sad_SD_women', 'fea_M_women', 'fea_SD_women', 'dis_M_women',\n",
        "       'dis_SD_women', 'BE_N_men', 'hap_M_men', 'hap_SD_men', 'ang_M_men',\n",
        "       'ang_SD_men', 'sad_M_men', 'sad_SD_men', 'fea_M_men', 'fea_SD_men',\n",
        "       'dis_M_men', 'dis_SD_men', 'DENN_BAWL', 'Briesemeister_liberal',\n",
        "       'Briesemeister_conservative', 'Mikels', 'Mikels_blended', 'ED_class'])\n",
        "\n",
        "nawl = nawl.rename(columns = {'No.':'nr', 'NAWL_word':'word', 'hap_M_all':'happiness', 'ang_M_all':'anger', 'sad_M_all':'sadness', 'fea_M_all':'fear', 'dis_M_all':'disgust'})"
      ]
    },
    {
      "cell_type": "markdown",
      "metadata": {
        "id": "UNnwUPNLlnOC"
      },
      "source": [
        "Lemmatization"
      ]
    },
    {
      "cell_type": "code",
      "execution_count": null,
      "metadata": {
        "colab": {
          "background_save": true
        },
        "id": "ElMTKTd0LUXm"
      },
      "outputs": [],
      "source": [
        "!pip install --upgrade spacy"
      ]
    },
    {
      "cell_type": "code",
      "execution_count": null,
      "metadata": {
        "colab": {
          "background_save": true
        },
        "id": "alJEAyWTL_8-"
      },
      "outputs": [],
      "source": [
        "!python -m spacy download pl_core_news_sm"
      ]
    },
    {
      "cell_type": "code",
      "execution_count": null,
      "metadata": {
        "id": "PS_W40oKOXjp"
      },
      "outputs": [],
      "source": [
        "import spacy"
      ]
    },
    {
      "cell_type": "code",
      "execution_count": null,
      "metadata": {
        "id": "lW39m0E7QFzH"
      },
      "outputs": [],
      "source": [
        "nlp = spacy.load(\"pl_core_news_sm\")"
      ]
    },
    {
      "cell_type": "code",
      "execution_count": null,
      "metadata": {
        "id": "9huYW6ffTq1f"
      },
      "outputs": [],
      "source": [
        "text = df.loc[0,'Arguments'] #this line allows to choose one argument (understood as a string created from the premises and the conclusion) from the database\n",
        "text_all = df['Arguments'].values.tolist()\n",
        "text_all = ' '.join(text_all)\n",
        "print(type(text_all))\n",
        "#the following line allows to just paste a choosen string\n",
        "# text = 'Światowa Organizacja Zdrowia (WHO) alarmuje, że osoby palące są bardziej narażone na komplikacje związane zarażeniem koronawirusem SARS-CoV-2. Koronawirus atakuje drogi oddechowe i powoduje ich uszkodzenie. Dym tytoniowy ma negatywny wpływ na stan układu oddechowego. U palaczy mogą wystąpić cięższe dolegliwości związane z zarażeniem koronawirusem. Zrezygnuj z używek.'\n",
        "doc = nlp(text) #text preprocessing\n",
        "\n",
        "print(\"Verbs:\", [token.lemma_ for token in doc if token.pos_ == \"VERB\"])\n",
        "\n",
        "lemma_list = [] #a list of lemmas contained in each argument - empty so far\n",
        "for token in doc: #each token contained in the argument...\n",
        "  lemma_list.append(token.lemma_) #is assigned its dictionary form, lemma\n",
        "\n",
        "lemma_list"
      ]
    },
    {
      "cell_type": "code",
      "execution_count": null,
      "metadata": {
        "id": "Enannr9CYj5Z"
      },
      "outputs": [],
      "source": [
        "emo_word = nawl['word'] #A segment of the nawl dataset containing a column with words\n",
        "emo_word_list = emo_word.tolist() #converted into a list\n",
        "\n",
        "found_words = [] #empty list for words found\n",
        "\n",
        "def matcher(argument_list, emo_word_list): #function that matches the words found in the arguments to words in the list of emotive words from the NAWL database; if the word is in the database, it goes into the list\n",
        "  for word in argument_list:\n",
        "    if word in emo_word_list:\n",
        "      found_words.append(word)\n",
        "\n",
        "matcher(lemma_list, emo_word_list)\n",
        "\n",
        "found_words\n"
      ]
    },
    {
      "cell_type": "code",
      "execution_count": null,
      "metadata": {
        "id": "ebUlYhL2b87r"
      },
      "outputs": [],
      "source": [
        "nawl_fragment = nawl[nawl['word'].isin(found_words)] #A part of the NAWL database that contains only the words included in the given argument\n",
        "mean_values = nawl_fragment[[\"happiness\", \"anger\", \"sadness\", \"fear\", \"disgust\"]].mean()\n",
        "mean_values"
      ]
    }
  ],
  "metadata": {
    "colab": {
      "collapsed_sections": [],
      "name": "Calculating mean emotion values.ipynb",
      "provenance": [],
      "authorship_tag": "ABX9TyPLqoQhhUUzyCLMqx9l3ynM",
      "include_colab_link": true
    },
    "kernelspec": {
      "display_name": "Python 3",
      "name": "python3"
    },
    "language_info": {
      "name": "python"
    }
  },
  "nbformat": 4,
  "nbformat_minor": 0
}